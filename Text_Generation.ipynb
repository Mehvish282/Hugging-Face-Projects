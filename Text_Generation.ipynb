{
  "nbformat": 4,
  "nbformat_minor": 0,
  "metadata": {
    "colab": {
      "provenance": [],
      "authorship_tag": "ABX9TyNoxmJDs73MwSIbsbN8ucQF"
    },
    "kernelspec": {
      "name": "python3",
      "display_name": "Python 3"
    },
    "language_info": {
      "name": "python"
    }
  },
  "cells": [
    {
      "cell_type": "markdown",
      "source": [
        "# TEXT GENERATION"
      ],
      "metadata": {
        "id": "-gyH3z5bUdKL"
      }
    },
    {
      "cell_type": "markdown",
      "source": [
        "**1: Install Transformers Library**\n",
        "\n",
        "Installs the Hugging Face transformers library, which provides pre-trained models for a variety of natural language processing (NLP) tasks including text generation."
      ],
      "metadata": {
        "id": "73bQ1D8hUS1d"
      }
    },
    {
      "cell_type": "code",
      "execution_count": null,
      "metadata": {
        "collapsed": true,
        "id": "PSm9OTXoId64"
      },
      "outputs": [],
      "source": [
        "!pip install transformers"
      ]
    },
    {
      "cell_type": "markdown",
      "source": [
        "**2:  Import Required Libraries**\n",
        "\n",
        "\n",
        "Imports essential Python libraries such as pandas, numpy, torch, matplotlib, and seaborn, along with Hugging Face's pipeline for text generation."
      ],
      "metadata": {
        "id": "htNRu7hvUoyk"
      }
    },
    {
      "cell_type": "code",
      "source": [
        "import pandas as pd\n",
        "import numpy as np\n",
        "from transformers import pipeline\n",
        "import torch\n",
        "import matplotlib.pyplot as plt\n",
        "import seaborn as sns"
      ],
      "metadata": {
        "id": "wx9rxBreI7q9"
      },
      "execution_count": null,
      "outputs": []
    },
    {
      "cell_type": "markdown",
      "source": [
        "**3: Load Dataset**\n",
        "\n",
        "Loads a CSV file containing poems/texts into a pandas DataFrame. This dataset is used as the input for text generation experiments."
      ],
      "metadata": {
        "id": "14WI4EV5UvNi"
      }
    },
    {
      "cell_type": "code",
      "source": [
        "poems = pd.read_csv('/content/robert_frost_collection.csv')\n",
        "poems.head(5)"
      ],
      "metadata": {
        "id": "XYkVtaJcJSo2"
      },
      "execution_count": null,
      "outputs": []
    },
    {
      "cell_type": "markdown",
      "source": [
        "**4: Clean and Preprocess Poem Lines**\n",
        "\n",
        "Cleans the text data by splitting poems into individual lines and filtering out empty lines. Prepares the content for line-by-line text generation."
      ],
      "metadata": {
        "id": "DBQR5IE-VA0N"
      }
    },
    {
      "cell_type": "code",
      "source": [
        "content = poems['Content'].dropna().tolist()"
      ],
      "metadata": {
        "id": "--h2PChWJhtw"
      },
      "execution_count": null,
      "outputs": []
    },
    {
      "cell_type": "code",
      "source": [
        "lines = []\n",
        "for poem in content:\n",
        " for line in poem.split(\"\\n\"):\n",
        "  lines.append(line.rstrip())"
      ],
      "metadata": {
        "id": "pU67uzlEJ3au"
      },
      "execution_count": null,
      "outputs": []
    },
    {
      "cell_type": "code",
      "source": [
        "lines = [line for line in lines if len(line) >0]\n",
        "lines[:5]"
      ],
      "metadata": {
        "id": "F3ramtKxKnjg"
      },
      "execution_count": null,
      "outputs": []
    },
    {
      "cell_type": "markdown",
      "source": [
        "**5: Initialize Text Generation Pipeline**\n",
        "\n",
        "Initializes the Hugging Face text generation pipeline using a default model (e.g., GPT-2). This model will be used to generate new text based on the input lines."
      ],
      "metadata": {
        "id": "lWxu0v8oVJG3"
      }
    },
    {
      "cell_type": "code",
      "source": [
        "gen = pipeline('text-generation')"
      ],
      "metadata": {
        "id": "imHydFzEK-jA"
      },
      "execution_count": null,
      "outputs": []
    },
    {
      "cell_type": "code",
      "source": [
        "lines[0]"
      ],
      "metadata": {
        "id": "bSi6MDYnLMPO"
      },
      "execution_count": null,
      "outputs": []
    },
    {
      "cell_type": "markdown",
      "source": [
        "**6: Generate Text for Sample Lines**\n",
        "\n",
        "Uses the pipeline to generate short text continuations (with max_length=20) for the first two lines of the dataset. Demonstrates basic functionality."
      ],
      "metadata": {
        "id": "T2zdwoq4VVSY"
      }
    },
    {
      "cell_type": "code",
      "source": [
        "gen(lines[0], max_length = 20)"
      ],
      "metadata": {
        "id": "8DgwJRexLRIQ"
      },
      "execution_count": null,
      "outputs": []
    },
    {
      "cell_type": "code",
      "source": [
        "gen(lines[1], max_length = 20)"
      ],
      "metadata": {
        "id": "QJyhxMEXNFIE"
      },
      "execution_count": null,
      "outputs": []
    },
    {
      "cell_type": "markdown",
      "source": [
        "**7: Generate and Display Wrapped Output**\n",
        "\n",
        "Defines a helper function using Python’s textwrap module and generates a longer text continuation (with max_length=30) for the first poem line and prints it using the wrapping function for better formatting."
      ],
      "metadata": {
        "id": "TQsdTFgfVeZ2"
      }
    },
    {
      "cell_type": "code",
      "source": [
        "import textwrap\n",
        "def wrap(x):\n",
        "  return textwrap.fill(x, replace_whitespace=False, fix_sentence_endings= True)"
      ],
      "metadata": {
        "id": "78PX5fezM5dt"
      },
      "execution_count": null,
      "outputs": []
    },
    {
      "cell_type": "code",
      "source": [
        "out = gen(lines[0], max_length = 30)\n",
        "print (wrap (out[0]['generated_text']))"
      ],
      "metadata": {
        "id": "ZiOwmkBhNYHh"
      },
      "execution_count": null,
      "outputs": []
    },
    {
      "cell_type": "markdown",
      "source": [
        "**8: Custom Prompt Text Generation**\n",
        "\n",
        "Demonstrates text generation using a custom prompt. Generates a longer continuation (up to 100 tokens) to show how the model handles novel inputs."
      ],
      "metadata": {
        "id": "akBS_mBWV1rE"
      }
    },
    {
      "cell_type": "code",
      "source": [
        "prompt = \"transformers have a wide variet of applications in nlp\"\n",
        "out= gen(prompt, max_length = 100)\n",
        "print(wrap(out[0]['generated_text']))"
      ],
      "metadata": {
        "id": "XBayQ1eqN1EE"
      },
      "execution_count": null,
      "outputs": []
    }
  ]
}