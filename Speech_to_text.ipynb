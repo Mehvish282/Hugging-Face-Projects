{
  "nbformat": 4,
  "nbformat_minor": 0,
  "metadata": {
    "colab": {
      "provenance": [],
      "authorship_tag": "ABX9TyNMT/JU+viqyJok8pXc5b5l"
    },
    "kernelspec": {
      "name": "python3",
      "display_name": "Python 3"
    },
    "language_info": {
      "name": "python"
    }
  },
  "cells": [
    {
      "cell_type": "markdown",
      "source": [
        "# Speech to Text Project"
      ],
      "metadata": {
        "id": "wBc3MBRRTT87"
      }
    },
    {
      "cell_type": "markdown",
      "source": [
        "**1: Install Transformers Library**\n",
        "\n",
        "Installs Hugging Face’s transformers package, which provides pre-trained models for tasks such as speech-to-text, NLP, and more."
      ],
      "metadata": {
        "id": "CJWlIGkaTvwR"
      }
    },
    {
      "cell_type": "code",
      "execution_count": null,
      "metadata": {
        "id": "7r95vimoGlWB"
      },
      "outputs": [],
      "source": [
        "pip install transformers"
      ]
    },
    {
      "cell_type": "markdown",
      "source": [
        "**2: Import Transformers Pipeline**\n",
        "\n",
        "Imports the pipeline API from transformers, which simplifies access to models for various tasks like audio transcription."
      ],
      "metadata": {
        "id": "3CzHJxdNT8eD"
      }
    },
    {
      "cell_type": "code",
      "source": [
        "from transformers import pipeline"
      ],
      "metadata": {
        "id": "zf_6_oR6HhIN"
      },
      "execution_count": null,
      "outputs": []
    },
    {
      "cell_type": "markdown",
      "source": [
        "**3: Import Additional Libraries**\n",
        "\n",
        "Imports essential libraries including librosa for audio processing, torch for tensor computations, and IPython for audio playback."
      ],
      "metadata": {
        "id": "FoFetSfRUJgj"
      }
    },
    {
      "cell_type": "code",
      "source": [
        "import librosa\n",
        "import torch\n",
        "import IPython.display as display\n",
        "from transformers import Wav2Vec2ForCTC, Wav2Vec2Tokenizer\n",
        "import numpy as np"
      ],
      "metadata": {
        "id": "ubUtfsA4R7cW"
      },
      "execution_count": null,
      "outputs": []
    },
    {
      "cell_type": "markdown",
      "source": [
        "**4: Load Pretrained Tokenizer and Model**\n",
        "\n",
        "Loads the Wav2Vec2 tokenizer and model from Hugging Face, specifically the facebook/wav2vec2-base-960h checkpoint trained for English speech recognition."
      ],
      "metadata": {
        "id": "L1ki7v3jUQve"
      }
    },
    {
      "cell_type": "code",
      "source": [
        "tokenizer = Wav2Vec2Tokenizer.from_pretrained(\"facebook/wav2vec2-base-960h\")\n",
        "model = Wav2Vec2ForCTC.from_pretrained(\"facebook/wav2vec2-base-960h\")"
      ],
      "metadata": {
        "id": "hJr0S6OpSBUD"
      },
      "execution_count": null,
      "outputs": []
    },
    {
      "cell_type": "markdown",
      "source": [
        "**5: Load Audio File**\n",
        "\n",
        "Loads an MP3 audio file using librosa and resamples it to 16 kHz, the required sampling rate for Wav2Vec2."
      ],
      "metadata": {
        "id": "Gm-DGcDeUW4K"
      }
    },
    {
      "cell_type": "code",
      "source": [
        "audio, sampling_rate = librosa.load(\"/content/v.mp3\", sr=16000)\n",
        "audio, sampling_rate"
      ],
      "metadata": {
        "id": "g0jJSyVASJIO"
      },
      "execution_count": null,
      "outputs": []
    },
    {
      "cell_type": "code",
      "source": [
        "display.Audio('/content/v.mp3', autoplay=True)"
      ],
      "metadata": {
        "id": "_bZB-AVQLyU4"
      },
      "execution_count": null,
      "outputs": []
    },
    {
      "cell_type": "markdown",
      "source": [
        "**6: Tokenize Audio Input**\n",
        "\n",
        "Tokenizes the audio waveform into input tensors required by the Wav2Vec2 model for inference."
      ],
      "metadata": {
        "id": "oQUxRk7AUpSn"
      }
    },
    {
      "cell_type": "code",
      "source": [
        "input_values = tokenizer(audio, return_tensors=\"pt\").input_values\n",
        "input_values"
      ],
      "metadata": {
        "id": "jvhP5hFsMKBS"
      },
      "execution_count": null,
      "outputs": []
    },
    {
      "cell_type": "markdown",
      "source": [
        "**7: Generate Logits from Model**\n",
        "\n",
        "Passes the tokenized input into the Wav2Vec2 model to generate raw logits representing character probabilities."
      ],
      "metadata": {
        "id": "nHbuaIGfUwkd"
      }
    },
    {
      "cell_type": "code",
      "source": [
        "logits = model(input_values).logits\n",
        "logits"
      ],
      "metadata": {
        "id": "SgEjYXiqMSyJ"
      },
      "execution_count": null,
      "outputs": []
    },
    {
      "cell_type": "markdown",
      "source": [
        "**8: Decode Predicted Token IDs to Text**\n",
        "\n",
        "Uses argmax to extract the most probable token IDs that onverts the predicted token IDs into human-readable text using the Wav2Vec2 tokenizer’s decode method."
      ],
      "metadata": {
        "id": "twJOYMxzVB4F"
      }
    },
    {
      "cell_type": "code",
      "source": [
        "predicted_ids = torch.argmax(logits, dim = -1)"
      ],
      "metadata": {
        "id": "y_SZth3aMgxf"
      },
      "execution_count": null,
      "outputs": []
    },
    {
      "cell_type": "code",
      "source": [
        "transcriptions = tokenizer.decode(predicted_ids[0])"
      ],
      "metadata": {
        "id": "X4f6o9wQMtTs"
      },
      "execution_count": null,
      "outputs": []
    },
    {
      "cell_type": "markdown",
      "source": [
        "**9: Display Final Transcription**\n",
        "\n",
        "Prints the final transcription result from the speech-to-text model output."
      ],
      "metadata": {
        "id": "Dkmpwc1CVaRh"
      }
    },
    {
      "cell_type": "code",
      "source": [
        "transcriptions"
      ],
      "metadata": {
        "id": "wSNi05AoM8wP"
      },
      "execution_count": null,
      "outputs": []
    }
  ]
}